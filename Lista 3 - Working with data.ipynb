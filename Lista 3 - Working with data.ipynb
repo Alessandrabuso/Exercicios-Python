{
 "cells": [
  {
   "cell_type": "markdown",
   "metadata": {},
   "source": [
    "# Working with data\n",
    "\n",
    "## Lista\n",
    "\n",
    "**problem 1:** What will be the output of the following program?\n",
    "\n",
    "\n",
    "`x = [0, 1, [2]]\n",
    "x[2][0] = 3\n",
    "print x\n",
    "x[2].append(4)\n",
    "print x\n",
    "x[2] = 2\n",
    "print x`\n"
   ]
  },
  {
   "cell_type": "code",
   "execution_count": 170,
   "metadata": {},
   "outputs": [
    {
     "name": "stdout",
     "output_type": "stream",
     "text": [
      "[0, 1, [3]]\n",
      "[0, 1, [3, 4]]\n",
      "[0, 1, 2]\n"
     ]
    }
   ],
   "source": [
    "x = [0, 1, [2]]\n",
    "x[2][0] = 3\n",
    "print (x)\n",
    "x[2].append(4)\n",
    "print (x)\n",
    "x[2] = 2\n",
    "print (x)"
   ]
  },
  {
   "cell_type": "markdown",
   "metadata": {},
   "source": [
    "## The for Statement\n",
    "\n",
    "**problem 2:** Python has a built-in function sum to find sum of all elements of a list. Provide an implementation for sum.\n",
    "\n",
    "\n",
    "`sum([1, 2, 3])\n",
    " 6`"
   ]
  },
  {
   "cell_type": "code",
   "execution_count": 171,
   "metadata": {},
   "outputs": [],
   "source": [
    "def soma(lista):\n",
    "    total = 0\n",
    "    for x in lista:\n",
    "        total += x\n",
    "    print(total)\n"
   ]
  },
  {
   "cell_type": "code",
   "execution_count": 172,
   "metadata": {},
   "outputs": [
    {
     "name": "stdout",
     "output_type": "stream",
     "text": [
      "6\n"
     ]
    }
   ],
   "source": [
    "lista = [1,2,3]\n",
    "soma(lista)"
   ]
  },
  {
   "cell_type": "markdown",
   "metadata": {},
   "source": [
    "**problem 3:** What happens when the above sum function is called with a list of strings? Can you make your sum function work for a list of strings as well.\n",
    "\n",
    "\n",
    "`sum([\"hello\", \"world\"])\n",
    "\"helloworld\"\n",
    "sum([\"aa\", \"bb\", \"cc\"])\n",
    "\"aabbcc\"`"
   ]
  },
  {
   "cell_type": "code",
   "execution_count": 173,
   "metadata": {},
   "outputs": [
    {
     "ename": "TypeError",
     "evalue": "unsupported operand type(s) for +=: 'int' and 'str'",
     "output_type": "error",
     "traceback": [
      "\u001b[0;31m---------------------------------------------------------------------------\u001b[0m",
      "\u001b[0;31mTypeError\u001b[0m                                 Traceback (most recent call last)",
      "\u001b[0;32m<ipython-input-173-3aa42c4b25b0>\u001b[0m in \u001b[0;36m<module>\u001b[0;34m\u001b[0m\n\u001b[1;32m      1\u001b[0m \u001b[0mlista\u001b[0m \u001b[0;34m=\u001b[0m \u001b[0;34m[\u001b[0m\u001b[0;34m\"aa\"\u001b[0m\u001b[0;34m,\u001b[0m\u001b[0;34m\"bb\"\u001b[0m\u001b[0;34m,\u001b[0m\u001b[0;34m\"cc\"\u001b[0m\u001b[0;34m]\u001b[0m\u001b[0;34m\u001b[0m\u001b[0;34m\u001b[0m\u001b[0m\n\u001b[0;32m----> 2\u001b[0;31m \u001b[0msoma\u001b[0m\u001b[0;34m(\u001b[0m\u001b[0mlista\u001b[0m\u001b[0;34m)\u001b[0m\u001b[0;34m\u001b[0m\u001b[0;34m\u001b[0m\u001b[0m\n\u001b[0m",
      "\u001b[0;32m<ipython-input-171-61f3c15fe9cb>\u001b[0m in \u001b[0;36msoma\u001b[0;34m(lista)\u001b[0m\n\u001b[1;32m      2\u001b[0m     \u001b[0mtotal\u001b[0m \u001b[0;34m=\u001b[0m \u001b[0;36m0\u001b[0m\u001b[0;34m\u001b[0m\u001b[0;34m\u001b[0m\u001b[0m\n\u001b[1;32m      3\u001b[0m     \u001b[0;32mfor\u001b[0m \u001b[0mx\u001b[0m \u001b[0;32min\u001b[0m \u001b[0mlista\u001b[0m\u001b[0;34m:\u001b[0m\u001b[0;34m\u001b[0m\u001b[0;34m\u001b[0m\u001b[0m\n\u001b[0;32m----> 4\u001b[0;31m         \u001b[0mtotal\u001b[0m \u001b[0;34m+=\u001b[0m \u001b[0mx\u001b[0m\u001b[0;34m\u001b[0m\u001b[0;34m\u001b[0m\u001b[0m\n\u001b[0m\u001b[1;32m      5\u001b[0m     \u001b[0mprint\u001b[0m\u001b[0;34m(\u001b[0m\u001b[0mtotal\u001b[0m\u001b[0;34m)\u001b[0m\u001b[0;34m\u001b[0m\u001b[0;34m\u001b[0m\u001b[0m\n",
      "\u001b[0;31mTypeError\u001b[0m: unsupported operand type(s) for +=: 'int' and 'str'"
     ]
    }
   ],
   "source": [
    "lista = [\"aa\",\"bb\",\"cc\"]\n",
    "soma(lista)"
   ]
  },
  {
   "cell_type": "code",
   "execution_count": 174,
   "metadata": {},
   "outputs": [],
   "source": [
    "def soma_2(lista):\n",
    "    if lista[0] is str: #isinstance(lista[0], str):\n",
    "        total = \"\"\n",
    "    else:\n",
    "        total = 0\n",
    "   \n",
    "    for x in lista:\n",
    "            total += x\n",
    "    print(total)\n",
    "    "
   ]
  },
  {
   "cell_type": "code",
   "execution_count": 175,
   "metadata": {},
   "outputs": [
    {
     "name": "stdout",
     "output_type": "stream",
     "text": [
      "6\n"
     ]
    }
   ],
   "source": [
    "lista = [1,2,3]\n",
    "soma_2(lista)"
   ]
  },
  {
   "cell_type": "markdown",
   "metadata": {},
   "source": [
    "**problem 4:** Implement a function product, to compute product of a list of numbers.\n",
    "\n",
    "`product([1, 2, 3])\n",
    "6`"
   ]
  },
  {
   "cell_type": "code",
   "execution_count": 176,
   "metadata": {},
   "outputs": [],
   "source": [
    "def product(lista):\n",
    "    total = 1\n",
    "    for x in lista:\n",
    "            total *= x\n",
    "    print(total)"
   ]
  },
  {
   "cell_type": "code",
   "execution_count": 177,
   "metadata": {},
   "outputs": [
    {
     "name": "stdout",
     "output_type": "stream",
     "text": [
      "6\n"
     ]
    }
   ],
   "source": [
    "product([1, 2, 3])"
   ]
  },
  {
   "cell_type": "markdown",
   "metadata": {},
   "source": [
    "**problem 5:** Write a function factorial to compute factorial of a number. Can you use the product function defined in the previous example to compute factorial?\n",
    "\n",
    "\n",
    "`factorial(4)\n",
    "24`"
   ]
  },
  {
   "cell_type": "code",
   "execution_count": 178,
   "metadata": {},
   "outputs": [],
   "source": [
    "def factorial(num):\n",
    "    total = 1\n",
    "    for x in range(num):\n",
    "            total *= (x+1)\n",
    "    print(total)"
   ]
  },
  {
   "cell_type": "code",
   "execution_count": 179,
   "metadata": {},
   "outputs": [
    {
     "name": "stdout",
     "output_type": "stream",
     "text": [
      "24\n"
     ]
    }
   ],
   "source": [
    "factorial(4)"
   ]
  },
  {
   "cell_type": "code",
   "execution_count": 180,
   "metadata": {},
   "outputs": [],
   "source": [
    "def factorial2(num):\n",
    "    list = []\n",
    "    for x in range(num):\n",
    "            list.append(x+1) \n",
    "    product(list)"
   ]
  },
  {
   "cell_type": "code",
   "execution_count": 181,
   "metadata": {},
   "outputs": [
    {
     "name": "stdout",
     "output_type": "stream",
     "text": [
      "24\n"
     ]
    }
   ],
   "source": [
    "factorial2(4)"
   ]
  },
  {
   "cell_type": "markdown",
   "metadata": {},
   "source": [
    "**problem 6:** Write a function reverse to reverse a list. Can you do this without using list slicing?\n",
    "\n",
    "\n",
    "`reverse([1, 2, 3, 4])\n",
    "[4, 3, 2, 1]\n",
    "reverse(reverse([1, 2, 3, 4]))\n",
    "[1, 2, 3, 4]`"
   ]
  },
  {
   "cell_type": "code",
   "execution_count": 182,
   "metadata": {},
   "outputs": [],
   "source": [
    "def reverse_sl(lst):\n",
    "    print(lst[::-1])"
   ]
  },
  {
   "cell_type": "code",
   "execution_count": 183,
   "metadata": {},
   "outputs": [
    {
     "name": "stdout",
     "output_type": "stream",
     "text": [
      "[4, 3, 2, 1]\n"
     ]
    }
   ],
   "source": [
    "reverse_sl([1, 2, 3, 4]) "
   ]
  },
  {
   "cell_type": "code",
   "execution_count": 184,
   "metadata": {},
   "outputs": [],
   "source": [
    "def reverse_n(lst):\n",
    "    out = []\n",
    "    sz = len(lst)\n",
    "    i = 0\n",
    "    for x in range(sz):\n",
    "        i = sz-x-1\n",
    "        out.append(lst[i])\n",
    "    print(out)"
   ]
  },
  {
   "cell_type": "code",
   "execution_count": 185,
   "metadata": {},
   "outputs": [
    {
     "name": "stdout",
     "output_type": "stream",
     "text": [
      "[4, 3, 2, 1]\n"
     ]
    }
   ],
   "source": [
    "reverse_n([1,2,3,4])"
   ]
  },
  {
   "cell_type": "markdown",
   "metadata": {},
   "source": [
    "**problem 7:** Python has built-in functions min and max to compute minimum and maximum of a given list. Provide an implementation for these functions. What happens when you call your min and max functions with a list of strings?"
   ]
  },
  {
   "cell_type": "code",
   "execution_count": 186,
   "metadata": {},
   "outputs": [],
   "source": [
    "def min2(entry):\n",
    "    mn = entry[0]\n",
    "    for x in entry:\n",
    "        if x < mn:\n",
    "            mn = x\n",
    "    print(mn)  "
   ]
  },
  {
   "cell_type": "code",
   "execution_count": 187,
   "metadata": {},
   "outputs": [
    {
     "name": "stdout",
     "output_type": "stream",
     "text": [
      "1\n"
     ]
    }
   ],
   "source": [
    "min2([4, 3, 2, 1])"
   ]
  },
  {
   "cell_type": "code",
   "execution_count": 188,
   "metadata": {},
   "outputs": [
    {
     "name": "stdout",
     "output_type": "stream",
     "text": [
      "a\n"
     ]
    }
   ],
   "source": [
    "min2([\"a\", \"b\", \"c\", \"d\"])"
   ]
  },
  {
   "cell_type": "code",
   "execution_count": 189,
   "metadata": {},
   "outputs": [],
   "source": [
    "def max2(entry):\n",
    "    mn = entry[0]\n",
    "    for x in entry:\n",
    "        if x > mn:\n",
    "            mn = x\n",
    "    print(mn)  "
   ]
  },
  {
   "cell_type": "code",
   "execution_count": 190,
   "metadata": {},
   "outputs": [
    {
     "name": "stdout",
     "output_type": "stream",
     "text": [
      "4\n"
     ]
    }
   ],
   "source": [
    "max2([4, 3, 2, 1])"
   ]
  },
  {
   "cell_type": "code",
   "execution_count": 191,
   "metadata": {},
   "outputs": [
    {
     "name": "stdout",
     "output_type": "stream",
     "text": [
      "d\n"
     ]
    }
   ],
   "source": [
    "max2([\"a\", \"b\", \"c\", \"d\"])"
   ]
  },
  {
   "cell_type": "markdown",
   "metadata": {},
   "source": [
    "**problem 8:** Cumulative sum of a list [a, b, c, ...] is defined as [a, a+b, a+b+c, ...]. Write a function cumulative_sum to compute cumulative sum of a list. Does your implementation work for a list of strings?\n",
    "\n",
    "\n",
    "`cumulative_sum([1, 2, 3, 4])\n",
    "[1, 3, 6, 10]\n",
    "cumulative_sum([4, 3, 2, 1])\n",
    "[4, 7, 9, 10]`"
   ]
  },
  {
   "cell_type": "code",
   "execution_count": 192,
   "metadata": {},
   "outputs": [],
   "source": [
    "def cumulative_sum(lista):\n",
    "    if isinstance(lista[0], str):\n",
    "        total = \"\"\n",
    "    else:\n",
    "        total = 0\n",
    "    out_list = []\n",
    "    for x in lista:\n",
    "        total += x \n",
    "        out_list.append(total)\n",
    "    print(out_list)\n",
    "    "
   ]
  },
  {
   "cell_type": "code",
   "execution_count": 193,
   "metadata": {},
   "outputs": [
    {
     "name": "stdout",
     "output_type": "stream",
     "text": [
      "[4, 7, 9, 10]\n"
     ]
    }
   ],
   "source": [
    "cumulative_sum([4, 3, 2, 1])"
   ]
  },
  {
   "cell_type": "code",
   "execution_count": 194,
   "metadata": {},
   "outputs": [
    {
     "name": "stdout",
     "output_type": "stream",
     "text": [
      "['4', '43', '432', '4321']\n"
     ]
    }
   ],
   "source": [
    "cumulative_sum([\"4\", \"3\", \"2\", \"1\"])"
   ]
  },
  {
   "cell_type": "markdown",
   "metadata": {},
   "source": [
    "**problem 9:** Write a function cumulative_product to compute cumulative product of a list of numbers.\n",
    "\n",
    "\n",
    "`cumulative_product([1, 2, 3, 4])\n",
    "[1, 2, 6, 24]\n",
    "cumulative_product([4, 3, 2, 1])\n",
    "[4, 12, 24, 24]`"
   ]
  },
  {
   "cell_type": "code",
   "execution_count": 195,
   "metadata": {},
   "outputs": [],
   "source": [
    "def cumulative_product(lista):\n",
    "    if isinstance(lista[0], str):\n",
    "        total = \"\"\n",
    "    else:\n",
    "        total = 1\n",
    "    out_list = []\n",
    "    for x in lista:\n",
    "        total *= x \n",
    "        out_list.append(total)\n",
    "    print(out_list)\n",
    "    "
   ]
  },
  {
   "cell_type": "code",
   "execution_count": 196,
   "metadata": {},
   "outputs": [
    {
     "name": "stdout",
     "output_type": "stream",
     "text": [
      "[4, 12, 24, 24]\n"
     ]
    }
   ],
   "source": [
    "cumulative_product([4, 3, 2, 1])"
   ]
  },
  {
   "cell_type": "markdown",
   "metadata": {},
   "source": [
    "**problem 10:** Write a function unique to find all the unique elements of a list.\n",
    "\n",
    "`unique([1, 2, 1, 3, 2, 5])\n",
    "[1, 2, 3, 5]`"
   ]
  },
  {
   "cell_type": "code",
   "execution_count": 197,
   "metadata": {},
   "outputs": [],
   "source": [
    "def unique(entry):\n",
    "    out_list = []\n",
    "    for x in entry:\n",
    "        if x not in out_list:\n",
    "           out_list.append(x) \n",
    "    print(out_list)\n",
    "                "
   ]
  },
  {
   "cell_type": "code",
   "execution_count": 198,
   "metadata": {},
   "outputs": [
    {
     "name": "stdout",
     "output_type": "stream",
     "text": [
      "[1, 2, 3, 5]\n"
     ]
    }
   ],
   "source": [
    "unique([1, 2, 1, 3, 2, 5])"
   ]
  },
  {
   "cell_type": "markdown",
   "metadata": {},
   "source": [
    "**problem 11:** Write a function dups to find all duplicates in the list.\n",
    "\n",
    "\n",
    "`dups([1, 2, 1, 3, 2, 5])\n",
    "[1, 2]`"
   ]
  },
  {
   "cell_type": "code",
   "execution_count": 199,
   "metadata": {},
   "outputs": [],
   "source": [
    "def dups(entry):\n",
    "    out_list = []\n",
    "    element = entry[:]\n",
    "    for x in entry:\n",
    "        element.pop(0)\n",
    "        if x in element and x not in out_list:\n",
    "            out_list.append(x)\n",
    "    print(out_list)\n",
    "                "
   ]
  },
  {
   "cell_type": "code",
   "execution_count": 200,
   "metadata": {},
   "outputs": [
    {
     "name": "stdout",
     "output_type": "stream",
     "text": [
      "[1, 2]\n"
     ]
    }
   ],
   "source": [
    "dups([1, 2 , 1, 3, 2, 5])"
   ]
  },
  {
   "cell_type": "markdown",
   "metadata": {},
   "source": [
    "**problem 12:** Write a function group(list, size) that take a list and splits into smaller lists of given size.\n",
    "\n",
    "\n",
    "` group([1, 2, 3, 4, 5, 6, 7, 8, 9], 3)\n",
    "[[1, 2, 3], [4, 5, 6], [7, 8, 9]]\n",
    " group([1, 2, 3, 4, 5, 6, 7, 8, 9], 4)\n",
    "[[1, 2, 3, 4], [5, 6, 7, 8], [9]]  `  "
   ]
  },
  {
   "cell_type": "code",
   "execution_count": 203,
   "metadata": {},
   "outputs": [],
   "source": [
    "def group(lst,size):\n",
    "    output = []\n",
    "    for x in range(len(lst)):\n",
    "        output.append(lst[0:size])\n",
    "        if len(lst) > size:\n",
    "            for i in range(size):\n",
    "                lst.pop(0) \n",
    "        else: break     \n",
    "    print(output)\n",
    "    "
   ]
  },
  {
   "cell_type": "code",
   "execution_count": 204,
   "metadata": {},
   "outputs": [
    {
     "name": "stdout",
     "output_type": "stream",
     "text": [
      "[[1], [2], [3], [4], [5], [6], [7], [8], [9]]\n"
     ]
    }
   ],
   "source": [
    "group([1, 2, 3, 4, 5, 6, 7, 8, 9], 1)"
   ]
  },
  {
   "cell_type": "markdown",
   "metadata": {},
   "source": [
    "## Sorting Lists\n",
    "\n",
    "**problem 14:** Write a function lensort to sort a list of strings based on length.\n",
    "\n",
    "\n",
    "`lensort(['python', 'perl', 'java', 'c', 'haskell', 'ruby'])\n",
    "['c', 'perl', 'java', 'ruby', 'python', 'haskell']`"
   ]
  },
  {
   "cell_type": "code",
   "execution_count": 205,
   "metadata": {},
   "outputs": [],
   "source": [
    "def lensort(entry):\n",
    "    siz = []\n",
    "    out = []\n",
    "    for x in entry:\n",
    "        siz.append(len(x))  \n",
    "    bas = list(zip(siz, entry))\n",
    "    bas.sort()\n",
    "    for i in bas:extend\n",
    "        out.append(i[1])\n",
    "    print(out)"
   ]
  },
  {
   "cell_type": "code",
   "execution_count": 206,
   "metadata": {},
   "outputs": [
    {
     "name": "stdout",
     "output_type": "stream",
     "text": [
      "['c', 'java', 'perl', 'ruby', 'python', 'haskell']\n"
     ]
    }
   ],
   "source": [
    "lensort(['python', 'perl', 'java', 'c', 'haskell', 'ruby'])"
   ]
  },
  {
   "cell_type": "markdown",
   "metadata": {},
   "source": [
    "**problem 15:** Improve the unique function written in previous problems to take an optional key function as argument and use the return value of the key function to check for uniqueness.\n",
    "\n",
    "\n",
    "`unique([\"python\", \"java\", \"Python\", \"Java\"], key=lambda s: s.lower())\n",
    "[\"python\", \"java\"]`"
   ]
  },
  {
   "cell_type": "code",
   "execution_count": 207,
   "metadata": {},
   "outputs": [],
   "source": [
    "def unique(entry,key):\n",
    "    out_list = []\n",
    "    for x in entry:\n",
    "        if key(x) not in out_list:\n",
    "           out_list.append(key(x))\n",
    "    print(out_list)\n",
    "                "
   ]
  },
  {
   "cell_type": "code",
   "execution_count": 209,
   "metadata": {},
   "outputs": [
    {
     "name": "stdout",
     "output_type": "stream",
     "text": [
      "['python', 'java']\n"
     ]
    }
   ],
   "source": [
    "unique([\"python\", \"java\", \"Python\", \"Java\"], key = lambda s: s.lower())"
   ]
  },
  {
   "cell_type": "markdown",
   "metadata": {},
   "source": [
    "## Tuples\n",
    "**problem 16:** Reimplement the unique function implemented in the earlier examples using sets."
   ]
  },
  {
   "cell_type": "code",
   "execution_count": 211,
   "metadata": {},
   "outputs": [],
   "source": [
    "def unique(entry):\n",
    "    out_list = set(())\n",
    "    for x in entry:\n",
    "        if x not in out_list:\n",
    "           out_list.add(x)\n",
    "    print(out_list)"
   ]
  },
  {
   "cell_type": "code",
   "execution_count": 212,
   "metadata": {},
   "outputs": [
    {
     "name": "stdout",
     "output_type": "stream",
     "text": [
      "{1, 2, 3, 5}\n"
     ]
    }
   ],
   "source": [
    "unique([1, 2, 1, 3, 2, 5])"
   ]
  },
  {
   "cell_type": "markdown",
   "metadata": {},
   "source": [
    "## Strings\n",
    "**problem 17:** Write a function extsort to sort a list of files based on extension.\n",
    "\n",
    "\n",
    "`extsort(['a.c', 'a.py', 'b.py', 'bar.txt', 'foo.txt', 'x.c'])\n",
    "['a.c', 'x.c', 'a.py', 'b.py', 'bar.txt', 'foo.txt']`"
   ]
  },
  {
   "cell_type": "code",
   "execution_count": 262,
   "metadata": {},
   "outputs": [],
   "source": [
    "def extsort(list):\n",
    "    keep0 = []\n",
    "    keep1 = [] \n",
    "    keep = []\n",
    "    out0 = []\n",
    "    out = []\n",
    "    for s in list:\n",
    "        a = s.split(\".\")\n",
    "        keep0.append(a[1])\n",
    "        keep1.append(a[0])\n",
    "    for t in zip(keep0, keep1):\n",
    "        keep.append(t)\n",
    "    keep.sort()\n",
    "    keep0 = []\n",
    "    keep1 = [] extend\n",
    "    for i in keep:\n",
    "        keep0.append(i[1])\n",
    "        keep1.append(i[0])\n",
    "    for t in zip(keep0, keep1):\n",
    "        out0.append(t)\n",
    "    for o in out0:\n",
    "        out.append(\".\".join(o))\n",
    "    print(out)"
   ]
  },
  {
   "cell_type": "code",
   "execution_count": 267,
   "metadata": {},
   "outputs": [
    {
     "name": "stdout",
     "output_type": "stream",
     "text": [
      "['a.c', 'x.c', 'a.py', 'b.py', 'bar.txt', 'foo.txt']\n"
     ]
    }
   ],
   "source": [
    "extsort(['a.c', 'a.py', 'b.py', 'bar.txt', 'foo.txt', 'x.c'])"
   ]
  },
  {
   "cell_type": "markdown",
   "metadata": {},
   "source": [
    "## Working With Files\n",
    "**problem 18:** Write a program reverse.py to print lines of a file in reverse order.\n",
    "\n",
    "      $ cat she.txt\n",
    "      She sells seashells on the seashore;\n",
    "      The shells that she sells are seashells I'm sure.\n",
    "      So if she sells seashells on the seashore,\n",
    "      I'm sure that the shells are seashore shells.\n",
    "\n",
    "      $ python reverse.py she.txt\n",
    "      I'm sure that the shells are seashore shells.\n",
    "      So if she sells seashells on the seashore,\n",
    "      The shells that she sells are seashells I'm sure.\n",
    "      She sells seashells on the seashore;"
   ]
  },
  {
   "cell_type": "code",
   "execution_count": 184,
   "metadata": {},
   "outputs": [],
   "source": [
    "def reverse(path):\n",
    "    arq = open(path, 'r')\n",
    "    texto = arq.readlines()\n",
    "    for linha in range(len(texto)):\n",
    "        print(texto[len(texto)-linha-1], end=\"\")\n",
    "    arq.close()"
   ]
  },
  {
   "cell_type": "code",
   "execution_count": 185,
   "metadata": {
    "scrolled": true
   },
   "outputs": [
    {
     "name": "stdout",
     "output_type": "stream",
     "text": [
      "I'm sure that the shells are seashore shells.\n",
      "So if she sells seashells on the seashore,\n",
      "The shells that she sells are seashells I'm sure.\n",
      "She sells seashells on the seashore;\n"
     ]
    }
   ],
   "source": [
    "reverse('/home/alessandra/Exercicios Python/she.txt')"
   ]
  },
  {
   "cell_type": "markdown",
   "metadata": {},
   "source": [
    "**problem 19:** Write a program to print each line of a file in reverse order."
   ]
  },
  {
   "cell_type": "code",
   "execution_count": 196,
   "metadata": {},
   "outputs": [],
   "source": [
    "def reverse_l(path):\n",
    "    arq = open(path, 'r')\n",
    "    texto = arq.readlines()\n",
    "    a = \"\"\n",
    "    for linha in texto:\n",
    "        print(linha[-1:1:-1],end=\"\")\n",
    "        '''for palavra in range(len(linha)):\n",
    "            a += ((linha[len(linha)-palavra-1]))\n",
    "        print(a)\n",
    "        a = \"\"'''\n",
    "    arq.close()"
   ]
  },
  {
   "cell_type": "code",
   "execution_count": 197,
   "metadata": {},
   "outputs": [
    {
     "name": "stdout",
     "output_type": "stream",
     "text": [
      "\n",
      ";erohsaes eht no sllehsaes slles e\n",
      ".erus m'I sllehsaes era slles ehs taht sllehs e\n",
      ",erohsaes eht no sllehsaes slles ehs fi \n",
      ".sllehs erohsaes era sllehs eht taht erus m"
     ]
    }
   ],
   "source": [
    "reverse_l('/home/alessandra/Exercicios Python/she.txt')"
   ]
  },
  {
   "cell_type": "markdown",
   "metadata": {},
   "source": [
    "**problem 20:** Implement unix commands head and tail. The head and tail commands take a file as argument and prints its first and last 10 lines of the file respectively."
   ]
  },
  {
   "cell_type": "code",
   "execution_count": 198,
   "metadata": {},
   "outputs": [],
   "source": [
    "def tail(path):\n",
    "    arq = open(path, 'r')\n",
    "    texto = arq.readlines()\n",
    "    for linha in range(10):\n",
    "        print(texto[len(texto)-linha-1],end=\"\")\n",
    "    arq.close()"
   ]
  },
  {
   "cell_type": "code",
   "execution_count": 199,
   "metadata": {},
   "outputs": [
    {
     "name": "stdout",
     "output_type": "stream",
     "text": [
      "linha 10\n",
      "linha 9\n",
      "linha 8\n",
      "linha 7\n",
      "linha 6 \n",
      "linha 5\n",
      "linha 4\n",
      "linha 3\n",
      "linha 2\n",
      "linha 1\n"
     ]
    }
   ],
   "source": [
    "tail('/home/alessandra/Exercicios Python/lines.txt')"
   ]
  },
  {
   "cell_type": "code",
   "execution_count": 200,
   "metadata": {},
   "outputs": [],
   "source": [
    "def head(path):\n",
    "    arq = open(path, 'r')\n",
    "    texto = arq.readlines()\n",
    "    for linha in range(10):\n",
    "        print(texto[linha],end=\"\")\n",
    "    arq.close()"
   ]
  },
  {
   "cell_type": "code",
   "execution_count": 201,
   "metadata": {},
   "outputs": [
    {
     "name": "stdout",
     "output_type": "stream",
     "text": [
      "linha 1\n",
      "linha 2\n",
      "linha 3\n",
      "linha 4\n",
      "linha 5\n",
      "linha 6 \n",
      "linha 7\n",
      "linha 8\n",
      "linha 9\n",
      "linha 10\n"
     ]
    }
   ],
   "source": [
    "head('/home/alessandra/Exercicios Python/lines.txt')"
   ]
  },
  {
   "cell_type": "markdown",
   "metadata": {},
   "source": [
    "**problem 21:** Implement unix command grep. The grep command takes a string and a file as arguments and prints all lines in the file which contain the specified string.\n",
    "\n",
    "`$ python grep.py she.txt sure\n",
    "The shells that she sells are seashells I'm sure.\n",
    "I'm sure that the shells are seashore shells.`"
   ]
  },
  {
   "cell_type": "code",
   "execution_count": 202,
   "metadata": {},
   "outputs": [],
   "source": [
    "def grep(path,word):\n",
    "    import re\n",
    "    arq = open(path, 'r')\n",
    "    texto = arq.readlines()\n",
    "    for linha in texto:\n",
    "        if re.search(word,linha):\n",
    "            print(linha,end=\"\")\n",
    "    arq.close()"
   ]
  },
  {
   "cell_type": "code",
   "execution_count": 203,
   "metadata": {},
   "outputs": [
    {
     "name": "stdout",
     "output_type": "stream",
     "text": [
      "The shells that she sells are seashells I'm sure.\n",
      "I'm sure that the shells are seashore shells.\n"
     ]
    }
   ],
   "source": [
    "grep('/home/alessandra/Exercicios Python/she.txt',\"sure\")"
   ]
  },
  {
   "cell_type": "markdown",
   "metadata": {},
   "source": [
    "**problem 22:** Write a program wrap.py that takes filename and width as aruguments and wraps the lines longer than width.\n",
    "\n",
    "`$ python wrap.py she.txt 30\n",
    "I'm sure that the shells are s\n",
    "eashore shells.\n",
    "So if she sells seashells on t\n",
    "he seashore,\n",
    "The shells that she sells are \n",
    "seashells I'm sure.\n",
    "She sells seashells on the sea\n",
    "shore;`"
   ]
  },
  {
   "cell_type": "code",
   "execution_count": 74,
   "metadata": {},
   "outputs": [],
   "source": [
    "def wrap(path,size):\n",
    "    arq = open(path, 'r')\n",
    "    texto = arq.readlines()\n",
    "    for linha in texto:\n",
    "        print(linha[:size])\n",
    "        print(linha[size:-1])\n",
    "    arq.close()"
   ]
  },
  {
   "cell_type": "code",
   "execution_count": 75,
   "metadata": {},
   "outputs": [
    {
     "name": "stdout",
     "output_type": "stream",
     "text": [
      "She sells seashells on the sea\n",
      "shore;\n",
      "The shells that she sells are \n",
      "seashells I'm sure.\n",
      "So if she sells seashells on t\n",
      "he seashore,\n",
      "I'm sure that the shells are s\n",
      "eashore shells.\n"
     ]
    }
   ],
   "source": [
    "wrap('/home/alessandra/Exercicios Python/she.txt',30)"
   ]
  },
  {
   "cell_type": "markdown",
   "metadata": {},
   "source": [
    "**problem 23:** The above wrap program is not so nice because it is breaking the line at middle of any word. Can you write a new program wordwrap.py that works like wrap.py, but breaks the line only at the word boundaries?\n",
    "\n",
    "`$ python wordwrap.py she.txt 30\n",
    "I'm sure that the shells are\n",
    "seashore shells.\n",
    "So if she sells seashells on\n",
    "the seashore,\n",
    "The shells that she sells are\n",
    "seashells I'm sure.\n",
    "She sells seashells on the\n",
    "seashore;`"
   ]
  },
  {
   "cell_type": "code",
   "execution_count": 1,
   "metadata": {},
   "outputs": [],
   "source": [
    "def wordwrap(path,size):\n",
    "    arq = open(path, 'r')\n",
    "    texto = arq.readlines()\n",
    "    a = \"\"\n",
    "    rest = \"\"\n",
    "    for linha in texto:\n",
    "        for word in linha.split():\n",
    "            if len(a)+len(word + \" \") <= size: \n",
    "                a += word + \" \"\n",
    "                #print(a)\n",
    "            else: \n",
    "                rest += word + \" \"\n",
    "        print(a)\n",
    "        print(rest)\n",
    "        a = \"\"\n",
    "        rest = \"\"\n",
    "    arq.close()"
   ]
  },
  {
   "cell_type": "code",
   "execution_count": 2,
   "metadata": {},
   "outputs": [
    {
     "name": "stdout",
     "output_type": "stream",
     "text": [
      "She sells seashells on the \n",
      "seashore; \n",
      "The shells that she sells are \n",
      "seashells I'm sure. \n",
      "So if she sells seashells on \n",
      "the seashore, \n",
      "I'm sure that the shells are \n",
      "seashore shells. \n"
     ]
    }
   ],
   "source": [
    "wordwrap('/home/alessandra/Exercicios Python/she.txt',30)"
   ]
  },
  {
   "cell_type": "markdown",
   "metadata": {},
   "source": [
    "**problem 24:** Write a program center_align.py to center align all lines in the given file.\n",
    "\n",
    "`python center_align.py she.txt\n",
    "      I'm sure that the shells are seashore shells.  \n",
    "        So if she sells seashells on the seashore,   \n",
    "    The shells that she sells are seashells I'm sure.\n",
    "           She sells seashells on the seashore; `"
   ]
  },
  {
   "cell_type": "code",
   "execution_count": 15,
   "metadata": {},
   "outputs": [],
   "source": [
    "def center_align(path):\n",
    "    arq = open(path, 'r')\n",
    "    texto = arq.readlines()\n",
    "    for linha in texto:\n",
    "        print(linha.center(50))\n",
    "    arq.close()"
   ]
  },
  {
   "cell_type": "code",
   "execution_count": 18,
   "metadata": {},
   "outputs": [
    {
     "name": "stdout",
     "output_type": "stream",
     "text": [
      "      She sells seashells on the seashore;\n",
      "       \n",
      "The shells that she sells are seashells I'm sure.\n",
      "\n",
      "   So if she sells seashells on the seashore,\n",
      "    \n",
      "  I'm sure that the shells are seashore shells.\n",
      "  \n"
     ]
    }
   ],
   "source": [
    "center_align('/home/alessandra/Exercicios Python/she.txt')"
   ]
  },
  {
   "cell_type": "markdown",
   "metadata": {},
   "source": [
    "## List Comprehensions\n",
    "**problem 25:** Provide an implementation for zip function using list comprehensions.\n",
    "\n",
    "\n",
    "`zip([1, 2, 3], [\"a\", \"b\", \"c\"])\n",
    "[(1, \"a\"), (2, \"b\"), (3, \"c\")]`"
   ]
  },
  {
   "cell_type": "code",
   "execution_count": 29,
   "metadata": {},
   "outputs": [],
   "source": [
    "def zipp(list1,list2):\n",
    "    ln = min(len(list1),len(list2))\n",
    "    out0 = []\n",
    "    out = []\n",
    "    for a in range(ln):\n",
    "        out0.append(list1[a])\n",
    "        out0.append(list2[a])\n",
    "        out.append(tuple(out0))\n",
    "        out0 = []\n",
    "    print(out)"
   ]
  },
  {
   "cell_type": "code",
   "execution_count": 30,
   "metadata": {},
   "outputs": [
    {
     "name": "stdout",
     "output_type": "stream",
     "text": [
      "[(1, 'a'), (2, 'b'), (3, 'c')]\n"
     ]
    }
   ],
   "source": [
    "zipp([1, 2, 3], [\"a\", \"b\", \"c\"])"
   ]
  },
  {
   "cell_type": "markdown",
   "metadata": {},
   "source": [
    "list.append(x): Adiciona um item ao fim da lista.\n",
    "\n",
    "list.extend(iterable): Adiciona todos os itens do iterável iterable ao fim da lista.\n",
    "\n",
    "list.insert(i, x): Insere um item em uma dada posição i.\n",
    "\n",
    "list.remove(x): Remove o primeiro elemento, cujo valor seja x.\n",
    "\n",
    "list.pop(i): Remove o item de posição i da lista e o retorna. Caso i não seja especificado, retorna o último elemento da lista.\n",
    "\n",
    "list.clear(): Remove todos os elementos da lista.\n",
    "\n",
    "list.index(x[, start[, end]]): Retorna o índice do primeiro elemento cujo valor seja x.\n",
    "\n",
    "list.count(x): Retorna o número de vezes que o valor x aparece na lista.\n",
    "\n",
    "list.sort(key=None, reverse=False): Ordena os items da lista (os argumentos podem ser usados para customizar a ordenação).\n",
    "\n",
    "list.reverse(): Reverte os elementos da lista.\n",
    "\n",
    "list.copy(): Retorna uma lista com a cópia dos elementos da lista de origem."
   ]
  },
  {
   "cell_type": "markdown",
   "metadata": {},
   "source": [
    "**problem 26:** Python provides a built-in function map that applies a function to each element of a list. Provide an implementation for map using list comprehensions.\n",
    "\n",
    "\n",
    "`def square(x): return x * x\n",
    "...\n",
    "map(square, range(5))\n",
    "[0, 1, 4, 9, 16]`"
   ]
  },
  {
   "cell_type": "code",
   "execution_count": 31,
   "metadata": {},
   "outputs": [],
   "source": [
    "def square(x): return x * x\n",
    "\n",
    "def mapp(func,size):\n",
    "    out = []\n",
    "    for i in size:\n",
    "        out.append(func(i))\n",
    "    print(out)\n",
    "        "
   ]
  },
  {
   "cell_type": "code",
   "execution_count": 39,
   "metadata": {},
   "outputs": [
    {
     "name": "stdout",
     "output_type": "stream",
     "text": [
      "[0, 1, 4, 9, 16]\n"
     ]
    }
   ],
   "source": [
    "mapp(square,range(5))"
   ]
  },
  {
   "cell_type": "markdown",
   "metadata": {},
   "source": [
    "**problem 27:** Python provides a built-in function filter(f, a) that returns items of the list a for which f(item) returns true. Provide an implementation for filter using list comprehensions.\n",
    "\n",
    "\n",
    "`def even(x): return x %2 == 0\n",
    "...\n",
    "filter(even, range(10))\n",
    "[0, 2, 4, 6, 8]`"
   ]
  },
  {
   "cell_type": "code",
   "execution_count": 45,
   "metadata": {},
   "outputs": [],
   "source": [
    "def even(x): return x %2 == 0\n",
    "\n",
    "def filterr(func, size):\n",
    "    out = []\n",
    "    for i in size:\n",
    "        if func(i) == True:\n",
    "            out.append(i)\n",
    "    print(out)"
   ]
  },
  {
   "cell_type": "code",
   "execution_count": 55,
   "metadata": {},
   "outputs": [
    {
     "name": "stdout",
     "output_type": "stream",
     "text": [
      "[0, 2, 4, 6, 8]\n"
     ]
    }
   ],
   "source": [
    "filterr(even, range(10))"
   ]
  },
  {
   "cell_type": "markdown",
   "metadata": {},
   "source": [
    "**problem 28:** Write a function triplets that takes a number n as argument and returns a list of triplets such that sum of first two elements of the triplet equals the third element using numbers below n. Please note that (a, b, c) and (b, a, c) represent same triplet.\n",
    "\n",
    "\n",
    "`triplets(5)\n",
    "[(1, 1, 2), (1, 2, 3), (1, 3, 4), (2, 2, 4)]`"
   ]
  },
  {
   "cell_type": "code",
   "execution_count": 146,
   "metadata": {},
   "outputs": [],
   "source": [
    "def triplets(par):\n",
    "    out = []\n",
    "    sai = ()\n",
    "    xy_list = []\n",
    "    for x in range(par):\n",
    "        for y in range(par):\n",
    "            for z in range(par):\n",
    "                if x == 0 or y == 0 or z == 0:\n",
    "                    sai = []\n",
    "                elif x+y == z:\n",
    "                    sai = (x,y,z)\n",
    "                    a = str(sai[0])+str(sai[1])\n",
    "                    b = str(sai[1])+str(sai[0])\n",
    "                    if a not in xy_list and b not in xy_list: \n",
    "                        out.append(tuple(sai))\n",
    "                    \n",
    "                    xy_list.append(str(x)+str(y))    \n",
    "    print(out)"
   ]
  },
  {
   "cell_type": "code",
   "execution_count": 154,
   "metadata": {},
   "outputs": [
    {
     "name": "stdout",
     "output_type": "stream",
     "text": [
      "[(1, 1, 2), (1, 2, 3), (1, 3, 4), (2, 2, 4)]\n"
     ]
    }
   ],
   "source": [
    "triplets(5)"
   ]
  },
  {
   "cell_type": "markdown",
   "metadata": {},
   "source": [
    "**problem 29:** Write a function enumerate that takes a list and returns a list of tuples containing (index,item) for each item in the list.\n",
    "\n",
    "\n",
    "` enumerate([\"a\", \"b\", \"c\"])\n",
    "[(0, \"a\"), (1, \"b\"), (2, \"c\")]\n",
    "for index, value in enumerate([\"a\", \"b\", \"c\"]):\n",
    "...     print index, value\n",
    "0 a\n",
    "1 b\n",
    "2 c`"
   ]
  },
  {
   "cell_type": "code",
   "execution_count": 174,
   "metadata": {},
   "outputs": [],
   "source": [
    "def enumeratee(lis):\n",
    "    out = []\n",
    "    for x in range(len(lis)):\n",
    "        out.append((x,lis[x]))\n",
    "    print(out)"
   ]
  },
  {
   "cell_type": "code",
   "execution_count": 176,
   "metadata": {},
   "outputs": [
    {
     "name": "stdout",
     "output_type": "stream",
     "text": [
      "[(0, 'a'), (1, 'b'), (2, 'c'), (3, 'd')]\n"
     ]
    }
   ],
   "source": [
    "enumeratee([\"a\", \"b\", \"c\", \"d\"])"
   ]
  },
  {
   "cell_type": "markdown",
   "metadata": {},
   "source": [
    "**problem 30:** Write a function array to create an 2-dimensional array. The function should take both dimensions as arguments. Value of each element can be initialized to None:\n",
    "\n",
    "\n",
    "`a = array(2, 3)\n",
    " a\n",
    "a[0][0] = 5\n",
    "[[5, None, None], [None, None, None]]`"
   ]
  },
  {
   "cell_type": "code",
   "execution_count": 180,
   "metadata": {},
   "outputs": [],
   "source": [
    "def arrayy(f,a):\n",
    "    out = []\n",
    "    out0 = []rint(texto[len(texto)-linha-1], end=\"\")\n",
    "    for x in range(f):\n",
    "        for y in range(a):\n",
    "            out0.append(None)\n",
    "        out.append(out0)\n",
    "        out0 = []\n",
    "    print(out)"
   ]
  },
  {
   "cell_type": "code",
   "execution_count": 213,
   "metadata": {},
   "outputs": [
    {
     "name": "stdout",
     "output_type": "stream",
     "text": [
      "[[None, None, None], [None, None, None]]\n"
     ]
    }
   ],
   "source": [
    "a = arrayy(2,3)"
   ]
  },
  {
   "cell_type": "markdown",
   "metadata": {},
   "source": [
    "**problem 31:** Write a python function parse_csv to parse csv (comma separated values) files.\n",
    "\n",
    "\n",
    "`print open('a.csv').read()\n",
    "a,b,c\n",
    "1,2,3\n",
    "2,3,4\n",
    "3,4,5\n",
    "parse_csv('a.csv')\n",
    "[['a', 'b', 'c'], ['1', '2', '3'], ['2', '3', '4'], ['3', '4', '5']]`"
   ]
  },
  {
   "cell_type": "code",
   "execution_count": 271,
   "metadata": {},
   "outputs": [],
   "source": [
    "def parse_csv(path):\n",
    "    arq = open(path, 'r')\n",
    "    texto = arq.readlines()\n",
    "    out = []\n",
    "    i = 0\n",
    "    for linha in texto:\n",
    "        a = linha.split(\",\")\n",
    "        for x in a:\n",
    "            a[i] = x.replace(\"\\n\",\"\")\n",
    "            i+=1\n",
    "        out.append(a)\n",
    "        i = 0 \n",
    "    print(out)"
   ]
  },
  {
   "cell_type": "code",
   "execution_count": 272,
   "metadata": {},
   "outputs": [
    {
     "name": "stdout",
     "output_type": "stream",
     "text": [
      "[['a', 'b', 'c'], ['1', '2', '3'], ['2', '3', '4'], ['3', '4', '5']]\n"
     ]
    }
   ],
   "source": [
    "parse_csv('/home/alessandra/Exercicios Python/a.csv')"
   ]
  },
  {
   "cell_type": "markdown",
   "metadata": {},
   "source": [
    "**problem 32:** Generalize the above implementation of csv parser to support any delimiter and comments.\n",
    "\n",
    "\n",
    "`print open('a.txt').read()\n",
    "elements are separated by ! and comment indicator is\n",
    "a!b!c\n",
    "1!2!3\n",
    "2!3!4\n",
    "3!4!5\n",
    "parse('a.txt', '!', '#')\n",
    "[['a', 'b', 'c'], ['1', '2', '3'], ['2', '3', '4'], ['3', '4', '5']]`"
   ]
  },
  {
   "cell_type": "code",
   "execution_count": 284,
   "metadata": {},
   "outputs": [],
   "source": [
    "def parse_csv2(path,dig,exc):\n",
    "    arq = open(path, 'r')\n",
    "    texto = arq.readlines()\n",
    "    out = []\n",
    "    i = 0\n",
    "    a = []\n",
    "    for linha in texto:\n",
    "        if linha[0]!= exc:\n",
    "            a = linha.split(dig)\n",
    "            for x in a:\n",
    "                a[i] = x.replace(\"\\n\",\"\")\n",
    "                i+=1\n",
    "            out.append(a)\n",
    "            i = 0 \n",
    "    print(out)\n",
    "    arq.close()"
   ]
  },
  {
   "cell_type": "code",
   "execution_count": 287,
   "metadata": {},
   "outputs": [
    {
     "name": "stdout",
     "output_type": "stream",
     "text": [
      "[['a', 'b', 'c'], ['1', '2', '3'], ['2', '3', '4'], ['3', '4', '5']]\n"
     ]
    }
   ],
   "source": [
    "parse_csv2('/home/alessandra/Exercicios Python/a.csv', '!', '#')"
   ]
  },
  {
   "cell_type": "markdown",
   "metadata": {},
   "source": [
    "**problem 33:** Write a function mutate to compute all words generated by a single mutation on a given word. A mutation is defined as inserting a character, deleting a character, replacing a character, or swapping 2 consecutive characters in a string. For simplicity consider only letters from a to z.\n",
    "\n",
    "\n",
    "`words = mutate('hello')\n",
    "'helo' in words\n",
    "True\n",
    "'cello' in words\n",
    "True\n",
    "'helol' in words\n",
    "True`"
   ]
  },
  {
   "cell_type": "code",
   "execution_count": 425,
   "metadata": {},
   "outputs": [],
   "source": [
    "def mutatee(string):\n",
    "    words = []\n",
    "    i = \"\"\n",
    "    k = \"\"\n",
    "    st = string\n",
    "    letters = [\"a\",\"b\",\"c\",\"d\",\"e\",\"f\",\"g\",\"h\",\"i\",\"j\",\"k\",\"l\",\"m\",\"n\",\"o\",\"p\",\"q\",\"r\",\"s\",\"t\",\"w\",\"x\",\"y\",\"z\"]\n",
    "    for a in letters:\n",
    "        words.append(string+i)\n",
    "        words.append(i+string)\n",
    "    for b in string:\n",
    "        i = string.replace(b,\"\",1)\n",
    "        words.append(i)\n",
    "        for c in letters:\n",
    "            words.append(i+c)\n",
    "            words.append(c+i)\n",
    "    for d in string:\n",
    "        k+=d\n",
    "        if(len(k))>2:\n",
    "            k = k[1:]\n",
    "        if len(k)>1:\n",
    "            words.append(st.replace(k,k[::-1],1))\n",
    "    return words"
   ]
  },
  {
   "cell_type": "code",
   "execution_count": 427,
   "metadata": {
    "scrolled": true
   },
   "outputs": [
    {
     "data": {
      "text/plain": [
       "True"
      ]
     },
     "execution_count": 427,
     "metadata": {},
     "output_type": "execute_result"
    }
   ],
   "source": [
    "words = mutatee(\"hello\")\n",
    "'helol' in words"
   ]
  },
  {
   "cell_type": "markdown",
   "metadata": {},
   "source": [
    "**problem 34:** Write a function nearly_equal to test whether two strings are nearly equal. Two strings a and b are nearly equal when a can be generated by a single mutation on b.\n",
    "\n",
    "\n",
    "`nearly_equal('python', 'perl')\n",
    "False\n",
    "nearly_equal('perl', 'pearl')\n",
    "True\n",
    "nearly_equal('python', 'jython')\n",
    "True\n",
    "nearly_equal('man', 'woman')\n",
    "False`"
   ]
  },
  {
   "cell_type": "code",
   "execution_count": 428,
   "metadata": {},
   "outputs": [],
   "source": [
    "def nearly_equal(a,b):\n",
    "    if a in mutatee(b): \n",
    "        print(True)\n",
    "    else:\n",
    "        print(False)"
   ]
  },
  {
   "cell_type": "code",
   "execution_count": 429,
   "metadata": {},
   "outputs": [
    {
     "name": "stdout",
     "output_type": "stream",
     "text": [
      "False\n"
     ]
    }
   ],
   "source": [
    "nearly_equal('python', 'perl')"
   ]
  },
  {
   "cell_type": "code",
   "execution_count": 430,
   "metadata": {},
   "outputs": [
    {
     "name": "stdout",
     "output_type": "stream",
     "text": [
      "True\n"
     ]
    }
   ],
   "source": [
    "nearly_equal('perl', 'pearl')"
   ]
  },
  {
   "cell_type": "code",
   "execution_count": 431,
   "metadata": {},
   "outputs": [
    {
     "name": "stdout",
     "output_type": "stream",
     "text": [
      "True\n"
     ]
    }
   ],
   "source": [
    "nearly_equal('python', 'jython')"
   ]
  },
  {
   "cell_type": "code",
   "execution_count": 432,
   "metadata": {},
   "outputs": [
    {
     "name": "stdout",
     "output_type": "stream",
     "text": [
      "False\n"
     ]
    }
   ],
   "source": [
    "nearly_equal('man', 'woman')"
   ]
  },
  {
   "cell_type": "markdown",
   "metadata": {},
   "source": [
    "## Dictionaries\n",
    "**problem 36:** Write a program to count frequency of characters in a given file. Can you use character frequency to tell whether the given file is a Python program file, C program file or a text file?"
   ]
  },
  {
   "cell_type": "code",
   "execution_count": 435,
   "metadata": {},
   "outputs": [
    {
     "name": "stdout",
     "output_type": "stream",
     "text": [
      "Number of words in the file : Counter({'sells': 3, 'seashells': 3, 'the': 3, 'on': 2, 'shells': 2, 'that': 2, 'she': 2, 'are': 2, \"I'm\": 2, 'She': 1, 'seashore;': 1, 'The': 1, 'sure.': 1, 'So': 1, 'if': 1, 'seashore,': 1, 'sure': 1, 'seashore': 1, 'shells.': 1})\n"
     ]
    }
   ],
   "source": [
    "def frq(fname):\n",
    "    from collections import Counter\n",
    "    with open(fname) as f:\n",
    "            return Counter(f.read().split())\n",
    "\n",
    "print(\"Number of words in the file :\",frq(\"she.txt\"))"
   ]
  },
  {
   "cell_type": "markdown",
   "metadata": {},
   "source": [
    "**problem 37:** Write a program to find anagrams in a given list of words. Two words are called anagrams if one word can be formed by rearranging letters of another. For example 'eat', 'ate' and 'tea' are anagrams.\n",
    "\n",
    "\n",
    "    >>> anagrams(['eat', 'ate', 'done', 'tea', 'soup', 'node'])\n",
    "    [['eat', 'ate', 'tea], ['done', 'node'], ['soup']]"
   ]
  },
  {
   "cell_type": "code",
   "execution_count": 37,
   "metadata": {},
   "outputs": [],
   "source": [
    "def anagrams(lista):\n",
    "    anag = []\n",
    "    temp = [[item for item in lista if sorted(item) == sorted(word)] for word in lista]\n",
    "    for item in temp:\n",
    "        if item not in anag:\n",
    "            anag.append(item)\n",
    "    print(anag)"
   ]
  },
  {
   "cell_type": "code",
   "execution_count": 38,
   "metadata": {},
   "outputs": [
    {
     "name": "stdout",
     "output_type": "stream",
     "text": [
      "[['eat', 'ate', 'tea'], ['done', 'node'], ['soup']]\n"
     ]
    }
   ],
   "source": [
    "anagrams(['eat', 'ate', 'done', 'tea', 'soup', 'node'])"
   ]
  },
  {
   "cell_type": "markdown",
   "metadata": {},
   "source": [
    "**problem 38:** Write a function valuesort to sort values of a dictionary based on the key.\n",
    "\n",
    "`valuesort({'x': 1, 'y': 2, 'a': 3})\n",
    "    [3, 1, 2]`"
   ]
  },
  {
   "cell_type": "code",
   "execution_count": 100,
   "metadata": {},
   "outputs": [],
   "source": [
    "def valuesort(dic):\n",
    "    chaves = sorted(dic)\n",
    "    out = []\n",
    "    for i in chaves:\n",
    "        out.append(dic[i])\n",
    "    print(out)"
   ]
  },
  {
   "cell_type": "code",
   "execution_count": 104,
   "metadata": {},
   "outputs": [
    {
     "name": "stdout",
     "output_type": "stream",
     "text": [
      "[3, 1, 2]\n"
     ]
    }
   ],
   "source": [
    "valuesort({'x': 1, 'y': 2, 'a': 3})"
   ]
  },
  {
   "cell_type": "markdown",
   "metadata": {},
   "source": [
    "**problem 39:** Write a function invertdict to interchange keys and values in a dictionary. For simplicity, assume that all values are unique.\n",
    "\n",
    "\n",
    "`invertdict({'x': 1, 'y': 2, 'z': 3})\n",
    "{1: 'x', 2: 'y', 3: 'z'}`"
   ]
  },
  {
   "cell_type": "code",
   "execution_count": 142,
   "metadata": {},
   "outputs": [],
   "source": [
    "def invertdict(dic):\n",
    "    chave = \"\"\n",
    "    valor = \"\"\n",
    "    out = {}\n",
    "    for i in dic:\n",
    "        valor = dic[i]\n",
    "        out[valor] = i\n",
    "    print(out)"
   ]
  },
  {
   "cell_type": "code",
   "execution_count": 145,
   "metadata": {},
   "outputs": [
    {
     "name": "stdout",
     "output_type": "stream",
     "text": [
      "{1: 'x', 2: 'y', 3: 'z'}\n"
     ]
    }
   ],
   "source": [
    "invertdict({'x': 1, 'y': 2, 'z': 3})"
   ]
  }
 ],
 "metadata": {
  "kernelspec": {
   "display_name": "Python [conda env:miniconda3-jupyterteste] *",
   "language": "python",
   "name": "conda-env-miniconda3-jupyterteste-py"
  },
  "language_info": {
   "codemirror_mode": {
    "name": "ipython",
    "version": 3
   },
   "file_extension": ".py",
   "mimetype": "text/x-python",
   "name": "python",
   "nbconvert_exporter": "python",
   "pygments_lexer": "ipython3",
   "version": "3.7.4"
  }
 },
 "nbformat": 4,
 "nbformat_minor": 2
}
