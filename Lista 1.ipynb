{
 "cells": [
  {
   "cell_type": "markdown",
   "metadata": {},
   "source": [
    "## Running Python Interpreter\n",
    "\n",
    "​​**problem 1:** Open a new Python interpreter and use it to find the value of 2 + 3.​"
   ]
  },
  {
   "cell_type": "markdown",
   "metadata": {},
   "source": [
    "![Solução 1](lista1_exe1.png)"
   ]
  },
  {
   "cell_type": "markdown",
   "metadata": {},
   "source": [
    "## Running Python Scripts\n",
    "\n",
    "​**problem 2:** Create a python script to print hello, world! four times.​\n",
    "\n",
    "**problem 3:** Create a python script with the following text and see the output.​"
   ]
  },
  {
   "cell_type": "markdown",
   "metadata": {},
   "source": [
    "**Problema 2:**\n",
    "\n",
    "1. Script\n",
    "    ![Solução 2.1](problem2_script.png)\n",
    "    \n",
    "    \n",
    "2. Saída no interpretador\n",
    "    ![Solução 2.2](problem2_saida.png)"
   ]
  },
  {
   "cell_type": "markdown",
   "metadata": {},
   "source": [
    "**Problema 3:**\n",
    "  \n",
    "1. Script corrigido \n",
    "    ![Solução 2.2](problem3_script.png)\n",
    "    \n",
    "1. Saidas no terminal\n",
    "    ![Solução 2.2](problem3_saida.png)"
   ]
  },
  {
   "cell_type": "markdown",
   "metadata": {},
   "source": [
    "## Assignments\n",
    "\n",
    "​**problem 4:** What will be output of the following program.​\n",
    "\n",
    "`x = 4\n",
    "y = x + 1\n",
    "x = 2\n",
    "print x, y`\n"
   ]
  },
  {
   "cell_type": "code",
   "execution_count": 3,
   "metadata": {},
   "outputs": [
    {
     "name": "stdout",
     "output_type": "stream",
     "text": [
      "2 5\n"
     ]
    }
   ],
   "source": [
    "    x = 4\n",
    "    y = x + 1\n",
    "    x = 2\n",
    "    print (x, y)Assignments"
   ]
  },
  {
   "cell_type": "markdown",
   "metadata": {},
   "source": [
    "**problem 5:** What will be the output of the following program.​\n",
    "\n",
    "`x, y = 2, 6\n",
    "x, y = y, x + 2\n",
    "print x, y`"
   ]
  },
  {
   "cell_type": "code",
   "execution_count": 4,
   "metadata": {},
   "outputs": [
    {
     "name": "stdout",
     "output_type": "stream",
     "text": [
      "6 4\n"
     ]
    }
   ],
   "source": [
    "x, y = 2, 6\n",
    "x, y = y, x + 2\n",
    "print (x, y)"
   ]
  },
  {
   "cell_type": "markdown",
   "metadata": {},
   "source": [
    "**problem 6:** What will be the output of the following program.​\n",
    "\n",
    "`a, b = 2, 3\n",
    "c, b = a, c + 1\n",
    "In [43]:\n",
    "\n",
    "\n",
    "print a, b, c`"
   ]
  },
  {
   "cell_type": "code",
   "execution_count": 8,
   "metadata": {},
   "outputs": [
    {
     "name": "stdout",
     "output_type": "stream",
     "text": [
      "2 3 2\n"
     ]
    }
   ],
   "source": [
    "a, b = 2, 3\n",
    "c = a \n",
    "b = c + 1\n",
    "print (a, b, c)"
   ]
  },
  {
   "cell_type": "markdown",
   "metadata": {},
   "source": [
    "## Functions\n",
    "\n",
    "​**problem 7:** How many multiplications are performed when each of the following lines of code is executed?​\n",
    "\n",
    "`numcalls = 0\n",
    "def square(x):\n",
    "    global numcalls\n",
    "    numcalls = numcalls + 1\n",
    "    return x * x\n",
    "print square(5)\n",
    "print square(2*5)`"
   ]
  },
  {
   "cell_type": "code",
   "execution_count": 18,
   "metadata": {},
   "outputs": [
    {
     "name": "stdout",
     "output_type": "stream",
     "text": [
      "25\n",
      "100\n",
      "2\n"
     ]
    }
   ],
   "source": [
    "numcalls = 0\n",
    "def square(x):\n",
    "    global numcalls\n",
    "    numcalls = numcalls + 1\n",
    "    return x * x\n",
    "\n",
    "print (square(5))\n",
    "print (square(2*5))\n",
    "print(numcalls)"
   ]
  },
  {
   "cell_type": "markdown",
   "metadata": {},
   "source": [
    "**problem 8:** What will be the output of the following program?​\n",
    "\n",
    "`x = 1\n",
    "\tdef f():\n",
    "            return x\n",
    "\tprint x\n",
    "\tprint f()`"
   ]
  },
  {
   "cell_type": "code",
   "execution_count": 87,
   "metadata": {},
   "outputs": [
    {
     "name": "stdout",
     "output_type": "stream",
     "text": [
      "1\n",
      "1\n"
     ]
    }
   ],
   "source": [
    "x = 1\n",
    "def f():\n",
    "    return x\n",
    "print (x)\n",
    "print (f())"
   ]
  },
  {
   "cell_type": "markdown",
   "metadata": {},
   "source": [
    "**problem 9:** What will be the output of the following program?​\n",
    "\n",
    "`x = 1\n",
    "\tdef f():\n",
    "            x = 2\n",
    "            return x\n",
    "\tprint x\n",
    "\tprint f()\n",
    "\tprint x`"
   ]
  },
  {
   "cell_type": "code",
   "execution_count": 82,
   "metadata": {},
   "outputs": [
    {
     "name": "stdout",
     "output_type": "stream",
     "text": [
      "1\n",
      "2\n",
      "1\n"
     ]
    }
   ],
   "source": [
    "x = 1\n",
    "def f():\n",
    "        #global x\n",
    "        x = 2\n",
    "        return x\n",
    "print (x)\n",
    "print (f())\n",
    "print (x)"
   ]
  },
  {
   "cell_type": "markdown",
   "metadata": {},
   "source": [
    "**problem 10:** What will be the output of the following program?​\n",
    "\n",
    "`x = 1\n",
    "\tdef f():\n",
    "\t\ty = x\n",
    "\t\tx = 2\n",
    "\t\treturn x + y\n",
    "\tprint x\n",
    "\tprint f()\n",
    "\tprint x`"
   ]
  },
  {
   "cell_type": "code",
   "execution_count": 89,
   "metadata": {},
   "outputs": [
    {
     "name": "stdout",
     "output_type": "stream",
     "text": [
      "1\n",
      "3\n",
      "1\n"
     ]
    }
   ],
   "source": [
    "x = 1\n",
    "def f(x):\n",
    "    y = x\n",
    "    x = 2\n",
    "    return x + y\n",
    "print (x)\n",
    "print (f(x))\n",
    "print (x)    "
   ]
  },
  {
   "cell_type": "markdown",
   "metadata": {},
   "source": [
    "**problem 11:** What will be the output of the following program?​\n",
    "` x = 2\n",
    "    def f(a):\n",
    "        x = a * a\n",
    "        return x\n",
    "    y = f(3)\n",
    "    print x, y`"
   ]
  },
  {
   "cell_type": "code",
   "execution_count": 33,
   "metadata": {},
   "outputs": [
    {
     "name": "stdout",
     "output_type": "stream",
     "text": [
      "2 9\n"
     ]
    }
   ],
   "source": [
    "local variable 'x' referenced before assignment x = 2\n",
    "def f(a):\n",
    "    x = a * a\n",
    "    return x\n",
    "y = f(3)\n",
    "print (x, y)"
   ]
  },
  {
   "cell_type": "markdown",
   "metadata": {},
   "source": [
    "**problem 12:** Write a function count_digits to find number of digits in the given number.\n",
    "\n",
    "` >>> count_digits(5)\n",
    "    1\n",
    "    >>> count_digits(12345)\n",
    "    5`"
   ]
  },
  {
   "cell_type": "code",
   "execution_count": 43,
   "metadata": {},
   "outputs": [],
   "source": [
    "def count_digits(a):y = x\n",
    "    num = len(str(a))\n",
    "    return  num"
   ]
  },
  {
   "cell_type": "code",
   "execution_count": 45,
   "metadata": {},
   "outputs": [
    {
     "data": {
      "text/plain": [
       "5"
      ]
     },
     "execution_count": 45,
     "metadata": {},
     "output_type": "execute_result"
    }
   ],
   "source": [
    "count_digits(12345)"
   ]
  },
  {
   "cell_type": "markdown",
   "metadata": {},
   "source": [
    "**problem 13:** Write a function `istrcmp` to compare two strings, ignoring the case.​\n",
    "\n",
    "`    >>> istrcmp('python', 'Python')\n",
    "    True\n",
    "    >>> istrcmp('LaTeX', 'Latex')\n",
    "    True\n",
    "    >>> istrcmp('a', 'b')\n",
    "    False`"
   ]
  },
  {
   "cell_type": "code",
   "execution_count": 48,
   "metadata": {},
   "outputs": [],
   "source": [
    "def istrcmp(str1, str2):\n",
    "    if str1.casefold() == str2.casefold():\n",
    "        print(\"True\")\n",
    "    else: print(\"False\")\n",
    "In [63]:\n"
   ]
  },
  {
   "cell_type": "code",
   "execution_count": 52,
   "metadata": {},
   "outputs": [
    {
     "name": "stdout",
     "output_type": "stream",
     "text": [
      "True\n"
     ]
    }
   ],
   "source": [
    "istrcmp('python', 'Python')"
   ]
  },
  {
   "cell_type": "markdown",
   "metadata": {},
   "source": [
    "## Conditional Expressions\n",
    "​​**problem 14:** What will be output of the following program?​\n",
    "\n",
    "​\n",
    "    `print 2 < 3 and 3 > 1\n",
    "    print 2 < 3 or 3 > 1\n",
    "    print 2 < 3 or not 3 > 1\n",
    "    print 2 < 3 and not 3 > 1`"
   ]
  },
  {
   "cell_type": "code",
   "execution_count": 53,
   "metadata": {},
   "outputs": [
    {
     "name": "stdout",
     "output_type": "stream",
     "text": [
      "True\n",
      "True\n",
      "True\n",
      "False\n"
     ]
    }
   ],
   "source": [
    "print (2 < 3 and 3 > 1)\n",
    "print (2 < 3 or 3 > 1)\n",
    "In [63]:\n",
    "\n",
    "print (2 < 3 or not 3 > 1)\n",
    "print (2 < 3 and not 3 > 1)"
   ]
  },
  {
   "cell_type": "markdown",
   "metadata": {},
   "source": [
    "**problem 15:** What will be output of the following program?​\n",
    "\n",
    "` x = 4\n",
    "    y = 5\n",
    "    p = x < y or x < z\n",
    "    print p`"
   ]
  },
  {
   "cell_type": "code",
   "execution_count": 54,
   "metadata": {},
   "outputs": [
    {
     "name": "stdout",
     "output_type": "stream",
     "text": [
      "True\n"
     ]
    }
   ],
   "source": [
    "x = 4\n",
    "y = 5\n",
    "p = x < y or x < z\n",
    "print (p)"
   ]
  },
  {
   "cell_type": "markdown",
   "metadata": {},
   "source": [
    "**problem 16:** What will be output of the following program?​\n",
    "\n",
    "`    True, False = False, True\n",
    "    print True, False\n",
    "    print 2 < 3`"
   ]
  },
  {
   "cell_type": "code",
   "execution_count": 61,
   "metadata": {},
   "outputs": [
    {
     "ename": "SyntaxError",
     "evalue": "can't assign to keyword (<ipython-input-61-3a825c604949>, line 1)",
     "output_type": "error",
     "traceback": [
      "\u001b[0;36m  File \u001b[0;32m\"<ipython-input-61-3a825c604949>\"\u001b[0;36m, line \u001b[0;32m1\u001b[0m\n\u001b[0;31m    True, False = False, True\u001b[0m\n\u001b[0m                             ^\u001b[0m\n\u001b[0;31mSyntaxError\u001b[0m\u001b[0;31m:\u001b[0m can't assign to keyword\n"
     ]
    }
   ],
   "source": [
    "True, False = False, True\n",
    "print (True, False)\n",
    "print (2 < 3)"
   ]
  },
  {
   "cell_type": "markdown",
   "metadata": {},
   "source": [
    "**problem 17:** What happens when the following code is executed? Will it give any error? Explain the reasons.​\n",
    "\n",
    "​\n",
    " `   x = 2\n",
    "    if x == 2:\n",
    "        print x\n",
    "    else:\n",
    "        print y`\n",
    "        \n",
    "**R:** Existe um erro na falta de parenteses no comando `print`, provavelmente devido ao uso do python 3, e um erro de conceito, uma vez que a variavel `y` não é definida no codigo"
   ]
  },
  {
   "cell_type": "code",
   "execution_count": 62,
   "metadata": {},
   "outputs": [
    {
     "name": "stdout",
     "output_type": "stream",
     "text": [
      "2\n"
     ]
    }
   ],
   "source": [
    "x = 2\n",
    "if x == 2:\n",
    "    print (x)\n",
    "else:\n",
    "    print (y)"
   ]
  },
  {
   "cell_type": "markdown",
   "metadata": {},
   "source": [
    "**problem 18:** What happens the following code is executed? Will it give any error? Explain the reasons.​\n",
    "\n",
    "`\n",
    "    x = 2\n",
    "    if x == 2:\n",
    "        print x\n",
    "    else:\n",
    "        x +`\n",
    "**R:** A sintaxe da somatória está incorreta, segue correção:"
   ]
  },
  {
   "cell_type": "code",
   "execution_count": 75,
   "metadata": {},
   "outputs": [
    {
     "name": "stdout",
     "output_type": "stream",
     "text": [
      "2\n"
     ]
    }
   ],
   "source": [
    "    x = 2\n",
    "    if x == 2:\n",
    "        print (x)\n",
    "    else:\n",
    "        x+=1"
   ]
  }
 ],
 "metadata": {
  "kernelspec": {
   "display_name": "Python [conda env:miniconda3-jupyterteste] *",
   "language": "python",
   "name": "conda-env-miniconda3-jupyterteste-py"
  },
  "language_info": {
   "codemirror_mode": {
    "name": "ipython",
    "version": 3
   },
   "file_extension": ".py",
   "mimetype": "text/x-python",
   "name": "python",
   "nbconvert_exporter": "python",
   "pygments_lexer": "ipython3",
   "version": "3.7.4"
  }
 },
 "nbformat": 4,
 "nbformat_minor": 2
}
