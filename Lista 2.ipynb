{
 "cells": [
  {
   "cell_type": "markdown",
   "metadata": {},
   "source": [
    "## Exercícios - Lista 2\n",
    "\n",
    "1. Escreva um programa que, dados 2 números diferentes (a e b), encontre o menor deles."
   ]
  },
  {
   "cell_type": "code",
   "execution_count": 1,
   "metadata": {},
   "outputs": [],
   "source": [
    "def minimo(a,b):\n",
    "    return min(a,b)"
   ]
  },
  {
   "cell_type": "code",
   "execution_count": 2,
   "metadata": {},
   "outputs": [
    {
     "data": {
      "text/plain": [
       "1"
      ]
     },
     "execution_count": 2,
     "metadata": {},
     "output_type": "execute_result"
    }
   ],
   "source": [
    "minimo(1,3)"
   ]
  },
  {
   "cell_type": "markdown",
   "metadata": {},
   "source": [
    "2. Para doar sangue é necessário:\n",
    "\n",
    "    * Ter entre 16 e 69 anos.\n",
    "    * Pesar mais de 50 kg.\n",
    "    * Estar descansado (ter dormido pelo menos 6 horas nas últimas 24 horas).\n",
    "\n",
    "Faça um programa que pergunte a idade, o peso e quanto dormiu nas últimas 24 h para uma pessoa e diga se ela pode doar sangue ou não."
   ]
  },
  {
   "cell_type": "code",
   "execution_count": 25,
   "metadata": {},
   "outputs": [],
   "source": [
    "def sangue ():\n",
    "    age = input(\"Informe sua idade em anos:\")\n",
    "    kg = input(\"Informe seu peso em kg:\")\n",
    "    rest = input(\"Informe se está descansado (ter dormido pelo menos 6 horas nas últimas 24 horas): (s/n)\")\n",
    "    if int(age) >= 16 and int(age) <= 59 and int(kg) >= 50 and str(rest) == \"s\":\n",
    "        result = \"aprovado\"\n",
    "    else:\n",
    "        result = \"reprovado\"\n",
    "    return result"
   ]
  },
  {
   "cell_type": "code",
   "execution_count": 26,
   "metadata": {},
   "outputs": [
    {
     "name": "stdout",
     "output_type": "stream",
     "text": [
      "Informe sua idade em anos:24\n",
      "Informe seu peso em kg:50\n",
      "Informe se está descansado (ter dormido pelo menos 6 horas nas últimas 24 horas): (s/n)s\n"
     ]
    },
    {
     "data": {
      "text/plain": [
       "'aprovado'"
      ]
     },
     "execution_count": 26,
     "metadata": {},
     "output_type": "execute_result"
    }
   ],
   "source": [
    "sangue()"
   ]
  },
  {
   "cell_type": "markdown",
   "metadata": {},
   "source": [
    "3. Considere uma equação do segundo grau f(x)=a⋅x2+b⋅x+c. A partir dos coeficientes, determine se a equação possui duas raízes reais, uma, ou se não possui.\n"
   ]
  },
  {
   "cell_type": "code",
   "execution_count": 7,
   "metadata": {},
   "outputs": [],
   "source": [
    "def root_an(a,b,c):\n",
    "    delta = b*b - 4*a*c\n",
    "    print(delta)\n",
    "    if delta > 0:\n",
    "        rootn = \"A equação admite várias soluções reais.\"\n",
    "    elif delta == 0: \n",
    "        rootn = \"A equação admite uma única solução real.\"\n",
    "    elif delta < 0: \n",
    "        rootn = \"A equação não admite solução reais.\"6 Leia um número inteiro entre 1 e 12 e escreva o mês correspondente. Caso o usuário digite um número fora desse intervalo, deverá aparecer uma mensagem informando que não existe mês com este número.\n",
    "    \n",
    "    return rootn"
   ]
  },
  {
   "cell_type": "code",
   "execution_count": 8,
   "metadata": {},
   "outputs": [
    {
     "name": "stdout",
     "output_type": "stream",
     "text": [
      "0\n"
     ]
    },
    {
     "data": {
      "text/plain": [
       "'A equação admite uma única solução real.'"
      ]
     },
     "execution_count": 8,
     "metadata": {},
     "output_type": "execute_result"
    }
   ],
   "source": [
    "root_an(1,2,1)"
   ]
  },
  {
   "cell_type": "markdown",
   "metadata": {},
   "source": [
    "4 Leia dois números e efetue a adição. Caso o valor somado seja maior que 20, este deverá ser apresentado somando-se a ele mais 8; caso o valor somado seja menor ou igual a 20, este deverá ser apresentado subtraindo-se 5."
   ]
  },
  {
   "cell_type": "code",
   "execution_count": 9,
   "metadata": {},
   "outputs": [],
   "source": [
    "def soma(a,b):\n",
    "    ad = a+b\n",
    "    if ad > 20: \n",
    "        ad += 8\n",
    "    elif ad <= 20:\n",
    "        ad -= 5\n",
    "    print(ad)"
   ]
  },
  {
   "cell_type": "code",
   "execution_count": 10,
   "metadata": {},
   "outputs": [
    {
     "name": "stdout",
     "output_type": "stream",
     "text": [
      "29\n"
     ]
    }
   ],
   "source": [
    "soma(20,1)"
   ]
  },
  {
   "cell_type": "markdown",
   "metadata": {},
   "source": [
    "5 Leia um número e imprima a raiz quadrada do número caso ele seja positivo ou igual a zero e o quadrado do número caso ele seja negativo."
   ]
  },
  {
   "cell_type": "code",
   "execution_count": 19,
   "metadata": {},
   "outputs": [],
   "source": [
    "def analise(a):\n",
    "    if a >= 0: \n",
    "        print(a**(1/2))\n",
    "    else:\n",
    "        print(a*a)"
   ]
  },
  {
   "cell_type": "code",
   "execution_count": 24,
   "metadata": {},
   "outputs": [
    {
     "name": "stdout",
     "output_type": "stream",
     "text": [
      "2.0\n"
     ]
    }
   ],
   "source": [
    "analise(4)"
   ]
  },
  {
   "cell_type": "markdown",
   "metadata": {},
   "source": [
    "6 Leia um número inteiro entre 1 e 12 e escreva o mês correspondente. Caso o usuário digite um número fora desse intervalo, deverá aparecer uma mensagem informando que não existe mês com este número."
   ]
  },
  {
   "cell_type": "code",
   "execution_count": 30,
   "metadata": {},
   "outputs": [],
   "source": [
    "def mesano():\n",
    "    mes = 0\n",
    "    while mes < 1 or mes > 12:\n",
    "        mes = int(input(\"Digite o numero de 1 a 12, referente ao mes desejado:\"))\n",
    "        if mes < 1 or mes > 12:\n",
    "            print(\"Numero inválido\")       \n",
    "    else:\n",
    "        if mes == 1:\n",
    "            print(\"Janeiro\")\n",
    "        elif mes == 2:\n",
    "            print(\"Fevereiro\")\n",
    "        elif mes == 3:\n",
    "            print(\"Março\")\n",
    "        elif mes == 4:\n",
    "            print(\"Abril\")\n",
    "        elif mes == 5:\n",
    "            print(\"Maio\")\n",
    "        elif mes == 6:\n",
    "            print(\"Junho\")\n",
    "        elif mes == 7:\n",
    "            print(\"Julho\")\n",
    "        elif mes == 8:\n",
    "            print(\"Agosto\")\n",
    "        elif mes == 9:\n",
    "            print(\"Setembro\")\n",
    "        elif mes == 10:\n",
    "            print(\"Outubro\")\n",
    "        elif mes == 11:\n",
    "            print(\"Novembro\")\n",
    "        elif mes == 12:\n",
    "            print(\"Dezembro\") "
   ]
  },
  {
   "cell_type": "code",
   "execution_count": 33,
   "metadata": {},
   "outputs": [
    {
     "name": "stdout",
     "output_type": "stream",
     "text": [
      "Digite o numero de 1 a 12, referente ao mes desejado:1\n",
      "Janeiro\n"
     ]
    }
   ],
   "source": [
    "mesano()"
   ]
  }
 ],
 "metadata": {
  "kernelspec": {
   "display_name": "Python [conda env:miniconda3-jupyterteste] *",
   "language": "python",
   "name": "conda-env-miniconda3-jupyterteste-py"
  },
  "language_info": {
   "codemirror_mode": {
    "name": "ipython",
    "version": 3
   },
   "file_extension": ".py",
   "mimetype": "text/x-python",
   "name": "python",
   "nbconvert_exporter": "python",
   "pygments_lexer": "ipython3",
   "version": "3.7.4"
  }
 },
 "nbformat": 4,
 "nbformat_minor": 2
}
