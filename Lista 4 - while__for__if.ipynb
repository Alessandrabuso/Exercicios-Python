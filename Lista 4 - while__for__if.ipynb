{
 "cells": [
  {
   "cell_type": "markdown",
   "metadata": {},
   "source": [
    "1. Write a function that returns the maximum of two numbers."
   ]
  },
  {
   "cell_type": "code",
   "execution_count": 3,
   "metadata": {},
   "outputs": [],
   "source": [
    "def maximo(int1,int2):\n",
    "    if int1 > int2:\n",
    "        print(int1)\n",
    "    elif int2 > int1:\n",
    "        print(int2)\n",
    "    else: print(str(int1) + \" = \" + str(int2))"
   ]
  },
  {
   "cell_type": "code",
   "execution_count": 7,
   "metadata": {},
   "outputs": [
    {
     "name": "stdout",
     "output_type": "stream",
     "text": [
      "3\n"
     ]
    }
   ],
   "source": [
    "maximo(3,2)"
   ]
  },
  {
   "cell_type": "markdown",
   "metadata": {},
   "source": [
    "2. Write a function called fizz_buzz that takes a number.\n",
    "    1. If the number is divisible by 3, it should return “Fizz”.\n",
    "    1. If it is divisible by 5, it should return “Buzz”.\n",
    "    1. If it is divisible by both 3 and 5, it should return “FizzBuzz”.\n",
    "    1. Otherwise, it should return the same number."
   ]
  },
  {
   "cell_type": "code",
   "execution_count": 96,
   "metadata": {},
   "outputs": [],
   "source": [
    "def fizz_buzz(int0):\n",
    "    a = \"\"\n",
    "    if int0%3 == 0 and int0%5 == 0:\n",
    "        a = (\"FizzBuzz\")\n",
    "    elif int0%3==0:\n",
    "        a = (\"Fizz\")\n",
    "    elif int0%5==0:\n",
    "        a = (\"Buzz\")\n",
    "    else:\n",
    "        a = str(int0)\n",
    "    return a"
   ]
  },
  {
   "cell_type": "code",
   "execution_count": 97,
   "metadata": {},
   "outputs": [
    {
     "data": {
      "text/plain": [
       "'Buzz'"
      ]
     },
     "execution_count": 97,
     "metadata": {},
     "output_type": "execute_result"
    }
   ],
   "source": [
    "fizz_buzz(5)"
   ]
  },
  {
   "cell_type": "markdown",
   "metadata": {},
   "source": [
    "3. Write a function for checking the speed of drivers. This function should have one parameter: speed.\n",
    "    1. If speed is less than 70, it should print “Ok”.\n",
    "    1. Otherwise, for every 5km above the speed limit (70), it should give the driver one demerit point and print the total number of demerit points. For example, if the speed is 80, it should print: “Points: 2”.\n",
    "    1. If the driver gets more than 12 points, the function should print: “License suspended”"
   ]
  },
  {
   "cell_type": "code",
   "execution_count": 58,
   "metadata": {},
   "outputs": [],
   "source": [
    "def speed(speed):\n",
    "    from math import floor\n",
    "    points = 0 \n",
    "    if speed > 70:\n",
    "        points = (speed - 70)/5\n",
    "        print(\"Points: %.d\" % floor(points))\n",
    "        if points > 12:\n",
    "            print(\"License suspended\")\n",
    "        else: print(\"Above limit\")\n",
    "    else: print(\"Ok\")"
   ]
  },
  {
   "cell_type": "code",
   "execution_count": 63,
   "metadata": {},
   "outputs": [
    {
     "name": "stdout",
     "output_type": "stream",
     "text": [
      "Points: 13\n",
      "License suspended\n"
     ]
    }
   ],
   "source": [
    "speed(135)"
   ]
  },
  {
   "cell_type": "markdown",
   "metadata": {},
   "source": [
    "4. Write a function called showNumbers that takes a parameter called limit. It should print all the numbers between 0 and limit with a label to identify the even and odd numbers. For example, if the limit is 3, it should print:\n",
    "    1. 0 EVEN\n",
    "    1. 1 ODD\n",
    "    1. 2 EVEN\n",
    "    1. 3 ODD"
   ]
  },
  {
   "cell_type": "code",
   "execution_count": 66,
   "metadata": {},
   "outputs": [],
   "source": [
    "def showNumbers(stop):\n",
    "    b = \"\"\n",
    "    \n",
    "        print(int0)for i in range(stop+1):\n",
    "        a = i%2\n",
    "        if a == 0:\n",
    "            b = \"EVEN\"\n",
    "        else: b = \"ODD\"\n",
    "        print(i,b)"
   ]
  },
  {
   "cell_type": "code",
   "execution_count": 70,
   "metadata": {},
   "outputs": [
    {
     "name": "stdout",
     "output_type": "stream",
     "text": [
      "0 EVEN\n",
      "1 ODD\n",
      "2 EVEN\n",
      "3 ODD\n"
     ]
    }
   ],
   "source": [
    "showNumbers(3)"
   ]
  },
  {
   "cell_type": "markdown",
   "metadata": {},
   "source": [
    "5. Write a function that returns the sum of multiples of 3 and 5 between 0 and limit (parameter). For example, if limit is 20, it should return the sum of 3, 5, 6, 9, 10, 12, 15, 18, 20."
   ]
  },
  {
   "cell_type": "code",
   "execution_count": 128,
   "metadata": {},
   "outputs": [],
   "source": [
    "def sumofmult(par):\n",
    "    out = 0\n",
    "    out0 = []\n",
    "    a = \"\"\n",
    "    for i in range(par+1):\n",
    "        a = fizz_buzz(i)\n",
    "        if a != str(i):\n",
    "            out += i \n",
    "            out0.append(i)\n",
    "    print(out0)       \n",
    "    print(out)"
   ]
  },
  {
   "cell_type": "code",
   "execution_count": 129,
   "metadata": {},
   "outputs": [
    {
     "name": "stdout",
     "output_type": "stream",
     "text": [
      "[0, 3, 5, 6, 9, 10, 12, 15, 18, 20]\n",
      "98\n"
     ]
    }
   ],
   "source": [
    "sumofmult(20)"
   ]
  },
  {
   "cell_type": "markdown",
   "metadata": {},
   "source": [
    "6. Write a function called show_stars(rows). If rows is 5, it should print the following:\n",
    "\n",
    "\\*\n",
    "\n",
    "\\**\n",
    "\n",
    "\\***\n",
    "\n",
    "\\****\n",
    "\n",
    "\\*****"
   ]
  },
  {
   "cell_type": "code",
   "execution_count": 159,
   "metadata": {},
   "outputs": [],
   "source": [
    "def show_stars(num): \n",
    "    sai = \"\"\n",
    "    for i in range(num+1):\n",
    "        for x in range(i):\n",
    "            sai += \"*\"\n",
    "        print(sai)\n",
    "        sai = \"\""
   ]
  },
  {
   "cell_type": "code",
   "execution_count": 166,
   "metadata": {},
   "outputs": [
    {
     "name": "stdout",
     "output_type": "stream",
     "text": [
      "\n",
      "*\n",
      "**\n",
      "***\n",
      "****\n",
      "*****\n"
     ]
    }
   ],
   "source": [
    "show_stars(5)"
   ]
  },
  {
   "cell_type": "markdown",
   "metadata": {},
   "source": [
    "7. Write a function that prints all the prime numbers between 0 and limit where limit is a parameter."
   ]
  },
  {
   "cell_type": "code",
   "execution_count": 184,
   "metadata": {},
   "outputs": [],
   "source": [
    "def is_prime(num):\n",
    "    divisores = 0\n",
    "    for divisor in range(1, num):\n",
    "        if num % divisor == 0:\n",
    "            divisores = divisores + 1\n",
    "            if divisores > 1:\n",
    "                  break\n",
    "    if divisores > 1:\n",
    "        return False\n",
    "    else:\n",
    "        return True\n",
    "\n",
    "def show_prime(lim):\n",
    "    out = []\n",
    "    for i in range(lim+1):\n",
    "        if i > 1:\n",
    "            bol = is_prime(i)\n",
    "            if bol == True:\n",
    "                out.append(i)\n",
    "    print(out)\n",
    "    "
   ]
  },
  {
   "cell_type": "code",
   "execution_count": 188,
   "metadata": {},
   "outputs": [
    {
     "name": "stdout",
     "output_type": "stream",
     "text": [
      "[2, 3, 5, 7, 11, 13, 17, 19]\n"
     ]
    }
   ],
   "source": [
    "show_prime(20)"
   ]
  }
 ],
 "metadata": {
  "kernelspec": {
   "display_name": "Python [conda env:miniconda3-jupyterteste] *",
   "language": "python",
   "name": "conda-env-miniconda3-jupyterteste-py"
  },
  "language_info": {
   "codemirror_mode": {
    "name": "ipython",
    "version": 3
   },
   "file_extension": ".py",
   "mimetype": "text/x-python",
   "name": "python",
   "nbconvert_exporter": "python",
   "pygments_lexer": "ipython3",
   "version": "3.7.4"
  }
 },
 "nbformat": 4,
 "nbformat_minor": 2
}
